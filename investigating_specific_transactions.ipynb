{
 "cells": [
  {
   "cell_type": "code",
   "execution_count": 1,
   "id": "709b2a73",
   "metadata": {},
   "outputs": [
    {
     "name": "stderr",
     "output_type": "stream",
     "text": [
      "/Users/deel/Desktop/work/virtual_environments/payment_reconciliation_env/lib/python3.9/site-packages/pandas/compat/__init__.py:124: UserWarning: Could not import the lzma module. Your installed Python is incomplete. Attempting to use lzma compression will result in a RuntimeError.\n",
      "  warnings.warn(msg)\n"
     ]
    }
   ],
   "source": [
    "import psycopg2\n",
    "import json\n",
    "import pandas as pd\n",
    "import requests"
   ]
  },
  {
   "cell_type": "code",
   "execution_count": 4,
   "id": "15fdf3cc",
   "metadata": {},
   "outputs": [],
   "source": [
    "with open('/Users/deel/.Credentials/login_details.json', 'r') as fp:\n",
    "    credentials = json.load(fp)"
   ]
  },
  {
   "cell_type": "code",
   "execution_count": 7,
   "id": "85b41f55",
   "metadata": {},
   "outputs": [],
   "source": [
    "con = psycopg2.connect(dbname=credentials['database'], user=credentials['username'], password=credentials['password'], host=credentials['host'])"
   ]
  },
  {
   "cell_type": "code",
   "execution_count": null,
   "id": "b6b2b78f",
   "metadata": {},
   "outputs": [],
   "source": [
    "# recommender = get_invoice_recommendations_locally(143103)"
   ]
  },
  {
   "cell_type": "code",
   "execution_count": 8,
   "id": "203e3350",
   "metadata": {},
   "outputs": [],
   "source": [
    "last_2_months_query = \"\"\"select i.invoice_id, i.payments_transaction_id \n",
    "from \"public\".invoice_payments_transactions as i JOIN payments.\"Transaction\"as t \n",
    "on i.payments_transaction_id=t.id\n",
    "where t.created_at>'03/01/2022'\"\"\""
   ]
  },
  {
   "cell_type": "code",
   "execution_count": 10,
   "id": "9dbff601",
   "metadata": {},
   "outputs": [],
   "source": [
    "last_2_months_df = pd.read_sql(last_2_months_query, con)"
   ]
  },
  {
   "cell_type": "code",
   "execution_count": 12,
   "id": "72c78b2c",
   "metadata": {},
   "outputs": [
    {
     "data": {
      "text/plain": [
       "(12027, 2)"
      ]
     },
     "execution_count": 12,
     "metadata": {},
     "output_type": "execute_result"
    }
   ],
   "source": [
    "last_2_months_df.shape"
   ]
  },
  {
   "cell_type": "code",
   "execution_count": 13,
   "id": "503fc479",
   "metadata": {},
   "outputs": [
    {
     "data": {
      "text/html": [
       "<div>\n",
       "<style scoped>\n",
       "    .dataframe tbody tr th:only-of-type {\n",
       "        vertical-align: middle;\n",
       "    }\n",
       "\n",
       "    .dataframe tbody tr th {\n",
       "        vertical-align: top;\n",
       "    }\n",
       "\n",
       "    .dataframe thead th {\n",
       "        text-align: right;\n",
       "    }\n",
       "</style>\n",
       "<table border=\"1\" class=\"dataframe\">\n",
       "  <thead>\n",
       "    <tr style=\"text-align: right;\">\n",
       "      <th></th>\n",
       "      <th>invoice_id</th>\n",
       "      <th>payments_transaction_id</th>\n",
       "    </tr>\n",
       "  </thead>\n",
       "  <tbody>\n",
       "    <tr>\n",
       "      <th>0</th>\n",
       "      <td>2484631</td>\n",
       "      <td>6887851</td>\n",
       "    </tr>\n",
       "    <tr>\n",
       "      <th>1</th>\n",
       "      <td>2473682</td>\n",
       "      <td>6984974</td>\n",
       "    </tr>\n",
       "    <tr>\n",
       "      <th>2</th>\n",
       "      <td>2472973</td>\n",
       "      <td>6984967</td>\n",
       "    </tr>\n",
       "    <tr>\n",
       "      <th>3</th>\n",
       "      <td>2484657</td>\n",
       "      <td>6995201</td>\n",
       "    </tr>\n",
       "    <tr>\n",
       "      <th>4</th>\n",
       "      <td>2453291</td>\n",
       "      <td>6992951</td>\n",
       "    </tr>\n",
       "  </tbody>\n",
       "</table>\n",
       "</div>"
      ],
      "text/plain": [
       "   invoice_id  payments_transaction_id\n",
       "0     2484631                  6887851\n",
       "1     2473682                  6984974\n",
       "2     2472973                  6984967\n",
       "3     2484657                  6995201\n",
       "4     2453291                  6992951"
      ]
     },
     "execution_count": 13,
     "metadata": {},
     "output_type": "execute_result"
    }
   ],
   "source": [
    "last_2_months_df.head(5)\n"
   ]
  },
  {
   "cell_type": "code",
   "execution_count": 20,
   "id": "4832dcf8",
   "metadata": {},
   "outputs": [],
   "source": [
    "from time import time"
   ]
  },
  {
   "cell_type": "code",
   "execution_count": 22,
   "id": "692707b4",
   "metadata": {},
   "outputs": [
    {
     "data": {
      "text/plain": [
       "1651502110.920141"
      ]
     },
     "execution_count": 22,
     "metadata": {},
     "output_type": "execute_result"
    }
   ],
   "source": [
    "time()"
   ]
  },
  {
   "cell_type": "code",
   "execution_count": null,
   "id": "bbd53add",
   "metadata": {},
   "outputs": [
    {
     "name": "stdout",
     "output_type": "stream",
     "text": [
      "time elapsed to 2000: 0.0006580352783203125\n",
      "time elapsed to 2100: 197.59258604049683\n",
      "time elapsed to 2200: 399.7342939376831\n",
      "time elapsed to 2300: 600.8668229579926\n",
      "time elapsed to 2400: 802.5833978652954\n",
      "time elapsed to 2500: 1008.8035538196564\n",
      "time elapsed to 2600: 1211.768759727478\n",
      "time elapsed to 2700: 1415.752091884613\n",
      "time elapsed to 2800: 1625.4618499279022\n",
      "time elapsed to 2900: 1827.3266439437866\n",
      "time elapsed to 3000: 2030.613208770752\n",
      "time elapsed to 3100: 2232.514745950699\n",
      "time elapsed to 3200: 2438.652003765106\n",
      "time elapsed to 3300: 2645.1570320129395\n",
      "time elapsed to 3400: 2849.37305188179\n",
      "time elapsed to 3500: 3058.162905931473\n",
      "time elapsed to 3600: 3265.4197788238525\n",
      "time elapsed to 3700: 3470.530194044113\n",
      "time elapsed to 3800: 3681.987808942795\n",
      "time elapsed to 3900: 3896.3955039978027\n",
      "time elapsed to 4000: 4101.638688087463\n",
      "time elapsed to 4100: 4314.728980064392\n",
      "time elapsed to 4200: 4525.682002067566\n",
      "time elapsed to 4300: 4735.995548963547\n",
      "time elapsed to 4400: 4949.52009510994\n",
      "time elapsed to 4500: 5164.33425283432\n",
      "time elapsed to 4600: 5377.281408071518\n",
      "time elapsed to 4700: 5594.872808933258\n",
      "time elapsed to 4800: 5808.512268781662\n",
      "time elapsed to 4900: 6024.485801935196\n",
      "time elapsed to 5000: 6237.884933948517\n",
      "time elapsed to 5100: 6448.432504892349\n",
      "time elapsed to 5200: 6663.781114816666\n",
      "time elapsed to 5300: 6871.556781768799\n",
      "time elapsed to 5400: 7088.023532152176\n",
      "time elapsed to 5500: 7292.000380039215\n",
      "time elapsed to 5600: 7499.136682987213\n",
      "time elapsed to 5700: 7709.482209920883\n",
      "time elapsed to 5800: 7916.874855995178\n",
      "time elapsed to 5900: 8123.604239940643\n",
      "time elapsed to 6000: 8328.297194957733\n",
      "time elapsed to 6100: 8534.002075910568\n",
      "time elapsed to 6200: 8741.363406896591\n",
      "time elapsed to 6300: 8945.051303863525\n",
      "time elapsed to 6400: 9149.297116041183\n",
      "time elapsed to 6500: 9355.558481931686\n",
      "time elapsed to 6600: 9562.838827133179\n"
     ]
    }
   ],
   "source": [
    "start = time()\n",
    "url = 'http://127.0.0.1:5000//get-transaction-invoice-comparison-locally'\n",
    "correct_matches = []\n",
    "faulty = []\n",
    "for i, row in last_2_months_df[2000:].iterrows():\n",
    "#     if i>1500:\n",
    "#         break\n",
    "    if not i%100:\n",
    "        print(f\"time elapsed to {i}: {time()-start}\")\n",
    "    if not i%250:\n",
    "        df = pd.DataFrame(correct_matches)\n",
    "        df.to_csv(f\"correct_matches_{i-250}-{i}.csv\")\n",
    "        correct_matches = []\n",
    "    payload = {'transactionId': str(row['payments_transaction_id']), 'invoiceId': str(row['invoice_id'])}\n",
    "    response = requests.post(url, json = payload).json()\n",
    "    if response:\n",
    "        correct_matches.append(response[0])\n",
    "    else:\n",
    "        faulty.append(payload)\n",
    "stop = time()\n",
    "print(f\"runtime: {stop-start}\")"
   ]
  },
  {
   "cell_type": "code",
   "execution_count": null,
   "id": "e032139f",
   "metadata": {},
   "outputs": [],
   "source": [
    "len(correct_matches)"
   ]
  },
  {
   "cell_type": "code",
   "execution_count": 54,
   "id": "d42d6355",
   "metadata": {},
   "outputs": [
    {
     "data": {
      "text/plain": [
       "9"
      ]
     },
     "execution_count": 54,
     "metadata": {},
     "output_type": "execute_result"
    }
   ],
   "source": [
    "len(faulty)"
   ]
  },
  {
   "cell_type": "code",
   "execution_count": null,
   "id": "abad828c",
   "metadata": {},
   "outputs": [],
   "source": [
    "correct_matches_df = pd.DataFrame(all_correct_matches)"
   ]
  },
  {
   "cell_type": "code",
   "execution_count": null,
   "id": "441824b5",
   "metadata": {},
   "outputs": [],
   "source": [
    "correct_matches_df['match_score'].sum()"
   ]
  },
  {
   "cell_type": "code",
   "execution_count": null,
   "id": "22d31e3b",
   "metadata": {},
   "outputs": [],
   "source": [
    "correct_matches_df['deel_ref_match'].sum()"
   ]
  },
  {
   "cell_type": "code",
   "execution_count": 55,
   "id": "f6d83db8",
   "metadata": {},
   "outputs": [],
   "source": [
    "correct_matches_df.to_csv('correct_matches_0-1000.csv')"
   ]
  },
  {
   "cell_type": "code",
   "execution_count": null,
   "id": "02f4d5ed",
   "metadata": {},
   "outputs": [],
   "source": []
  },
  {
   "cell_type": "code",
   "execution_count": null,
   "id": "97453604",
   "metadata": {},
   "outputs": [],
   "source": []
  },
  {
   "cell_type": "code",
   "execution_count": null,
   "id": "263c9383",
   "metadata": {},
   "outputs": [],
   "source": []
  },
  {
   "cell_type": "code",
   "execution_count": null,
   "id": "9917a385",
   "metadata": {},
   "outputs": [],
   "source": []
  },
  {
   "cell_type": "code",
   "execution_count": null,
   "id": "94687a18",
   "metadata": {},
   "outputs": [],
   "source": []
  },
  {
   "cell_type": "code",
   "execution_count": null,
   "id": "bd2f4002",
   "metadata": {},
   "outputs": [],
   "source": []
  },
  {
   "cell_type": "code",
   "execution_count": null,
   "id": "4b8104d6",
   "metadata": {},
   "outputs": [],
   "source": []
  },
  {
   "cell_type": "code",
   "execution_count": null,
   "id": "9d5fa63f",
   "metadata": {},
   "outputs": [],
   "source": []
  },
  {
   "cell_type": "code",
   "execution_count": null,
   "id": "2b032cff",
   "metadata": {},
   "outputs": [],
   "source": []
  },
  {
   "cell_type": "code",
   "execution_count": null,
   "id": "6c8e361e",
   "metadata": {},
   "outputs": [],
   "source": []
  },
  {
   "cell_type": "code",
   "execution_count": null,
   "id": "b3e8b340",
   "metadata": {},
   "outputs": [],
   "source": []
  },
  {
   "cell_type": "code",
   "execution_count": null,
   "id": "515193a9",
   "metadata": {},
   "outputs": [],
   "source": []
  },
  {
   "cell_type": "code",
   "execution_count": null,
   "id": "95ea19b0",
   "metadata": {},
   "outputs": [],
   "source": []
  },
  {
   "cell_type": "code",
   "execution_count": null,
   "id": "dd6f3072",
   "metadata": {},
   "outputs": [],
   "source": []
  },
  {
   "cell_type": "code",
   "execution_count": null,
   "id": "40594f55",
   "metadata": {},
   "outputs": [],
   "source": []
  },
  {
   "cell_type": "code",
   "execution_count": null,
   "id": "b907abd9",
   "metadata": {},
   "outputs": [],
   "source": []
  },
  {
   "cell_type": "code",
   "execution_count": 10,
   "id": "e4beda6b",
   "metadata": {},
   "outputs": [],
   "source": [
    "matched_invoice_transaction_df = pd.read_sql(\"select * from public.invoice_payments_transactions\", con)"
   ]
  },
  {
   "cell_type": "code",
   "execution_count": 18,
   "id": "6c3e1713",
   "metadata": {},
   "outputs": [],
   "source": [
    "transaction_id = 7443022\n",
    "transactions_query = f\"\"\"\n",
    "        SELECT\n",
    "            *\n",
    "        FROM\n",
    "            payments. \"Transaction\"\n",
    "        WHERE\n",
    "            id in ({str(transaction_id)})\"\"\"\n",
    "\n",
    "transaction_df = pd.read_sql(transactions_query, con)"
   ]
  },
  {
   "cell_type": "code",
   "execution_count": 19,
   "id": "de2ffff1",
   "metadata": {},
   "outputs": [
    {
     "data": {
      "text/html": [
       "<div>\n",
       "<style scoped>\n",
       "    .dataframe tbody tr th:only-of-type {\n",
       "        vertical-align: middle;\n",
       "    }\n",
       "\n",
       "    .dataframe tbody tr th {\n",
       "        vertical-align: top;\n",
       "    }\n",
       "\n",
       "    .dataframe thead th {\n",
       "        text-align: right;\n",
       "    }\n",
       "</style>\n",
       "<table border=\"1\" class=\"dataframe\">\n",
       "  <thead>\n",
       "    <tr style=\"text-align: right;\">\n",
       "      <th></th>\n",
       "      <th>id</th>\n",
       "      <th>provider</th>\n",
       "      <th>provider_ref</th>\n",
       "      <th>type</th>\n",
       "      <th>account</th>\n",
       "      <th>amount</th>\n",
       "      <th>currency</th>\n",
       "      <th>description</th>\n",
       "      <th>data</th>\n",
       "      <th>created_at</th>\n",
       "    </tr>\n",
       "  </thead>\n",
       "  <tbody>\n",
       "    <tr>\n",
       "      <th>0</th>\n",
       "      <td>7443022</td>\n",
       "      <td>wise</td>\n",
       "      <td>TRANSFER-374619443</td>\n",
       "      <td>INCOMING</td>\n",
       "      <td>3714250</td>\n",
       "      <td>9407.3</td>\n",
       "      <td>EUR</td>\n",
       "      <td>Received money from CATENA OPERATIONS LIMITED ...</td>\n",
       "      <td>{'date': '2022-03-04T11:39:09.595142Z', 'type'...</td>\n",
       "      <td>2022-03-04 11:39:09.595000+00:00</td>\n",
       "    </tr>\n",
       "  </tbody>\n",
       "</table>\n",
       "</div>"
      ],
      "text/plain": [
       "        id provider        provider_ref      type  account  amount currency  \\\n",
       "0  7443022     wise  TRANSFER-374619443  INCOMING  3714250  9407.3      EUR   \n",
       "\n",
       "                                         description  \\\n",
       "0  Received money from CATENA OPERATIONS LIMITED ...   \n",
       "\n",
       "                                                data  \\\n",
       "0  {'date': '2022-03-04T11:39:09.595142Z', 'type'...   \n",
       "\n",
       "                        created_at  \n",
       "0 2022-03-04 11:39:09.595000+00:00  "
      ]
     },
     "execution_count": 19,
     "metadata": {},
     "output_type": "execute_result"
    }
   ],
   "source": [
    "transaction_df"
   ]
  },
  {
   "cell_type": "code",
   "execution_count": 20,
   "id": "d933ea2f",
   "metadata": {},
   "outputs": [
    {
     "data": {
      "text/plain": [
       "{'date': '2022-03-04T11:39:09.595142Z',\n",
       " 'type': 'CREDIT',\n",
       " 'amount': {'zero': False, 'value': 9407.3, 'currency': 'EUR'},\n",
       " 'details': {'type': 'DEPOSIT',\n",
       "  'senderName': 'CATENA OPERATIONS LIMITED',\n",
       "  'description': 'Received money from CATENA OPERATIONS LIMITED with reference Relation: Professional ServiceReason: Payment for ServicesCatena StatementS 2022 60012 Ref noDEELSKXHW8',\n",
       "  'senderAccount': '(VALLMTMTXXX) MT22VALL22013000000040022643780',\n",
       "  'paymentReference': 'Relation: Professional ServiceReason: Payment for ServicesCatena StatementS 2022 60012 Ref noDEELSKXHW8'},\n",
       " 'accountId': 3714250,\n",
       " 'totalFees': {'zero': True, 'value': 0, 'currency': 'EUR'},\n",
       " 'attachment': None,\n",
       " 'runningBalance': {'zero': False, 'value': 17030968.15, 'currency': 'EUR'},\n",
       " 'exchangeDetails': None,\n",
       " 'referenceNumber': 'TRANSFER-374619443',\n",
       " 'activityAssetAttributions': []}"
      ]
     },
     "execution_count": 20,
     "metadata": {},
     "output_type": "execute_result"
    }
   ],
   "source": [
    "transaction_df.iloc[0]['data']"
   ]
  },
  {
   "cell_type": "code",
   "execution_count": 21,
   "id": "a93b4ea8",
   "metadata": {},
   "outputs": [],
   "source": [
    "invoice_id = 2469750\n",
    "invoice_query = f\"\"\"\n",
    "SELECT * \n",
    "FROM invoice\n",
    "WHERE id IN ({str(invoice_id)})\"\"\""
   ]
  },
  {
   "cell_type": "code",
   "execution_count": 22,
   "id": "d02c6675",
   "metadata": {},
   "outputs": [],
   "source": [
    "invoice_df = pd.read_sql(invoice_query, con)"
   ]
  },
  {
   "cell_type": "code",
   "execution_count": 23,
   "id": "afa9c891",
   "metadata": {},
   "outputs": [
    {
     "data": {
      "text/html": [
       "<div>\n",
       "<style scoped>\n",
       "    .dataframe tbody tr th:only-of-type {\n",
       "        vertical-align: middle;\n",
       "    }\n",
       "\n",
       "    .dataframe tbody tr th {\n",
       "        vertical-align: top;\n",
       "    }\n",
       "\n",
       "    .dataframe thead th {\n",
       "        text-align: right;\n",
       "    }\n",
       "</style>\n",
       "<table border=\"1\" class=\"dataframe\">\n",
       "  <thead>\n",
       "    <tr style=\"text-align: right;\">\n",
       "      <th></th>\n",
       "      <th>created_at</th>\n",
       "      <th>updated_at</th>\n",
       "      <th>id</th>\n",
       "      <th>amount</th>\n",
       "      <th>invoice_id</th>\n",
       "      <th>contract_id</th>\n",
       "      <th>status</th>\n",
       "      <th>user_id</th>\n",
       "      <th>internal_tx_id</th>\n",
       "      <th>payment_method</th>\n",
       "      <th>...</th>\n",
       "      <th>autopilot_root_invoice_id</th>\n",
       "      <th>refund_for</th>\n",
       "      <th>source_of_revenue</th>\n",
       "      <th>moved_to_processing_by_user_id</th>\n",
       "      <th>skip_releasing_balance</th>\n",
       "      <th>released_by_date</th>\n",
       "      <th>autopay_rule_id</th>\n",
       "      <th>sender_legal_entity_id</th>\n",
       "      <th>is_sealed</th>\n",
       "      <th>proof_of_payment_file_id</th>\n",
       "    </tr>\n",
       "  </thead>\n",
       "  <tbody>\n",
       "    <tr>\n",
       "      <th>0</th>\n",
       "      <td>2022-02-28 07:37:12.768</td>\n",
       "      <td>2022-03-07 19:21:21.635</td>\n",
       "      <td>2469750</td>\n",
       "      <td>9214.04</td>\n",
       "      <td>7eS1awDLlhIPsBKm_jQLl</td>\n",
       "      <td>-200</td>\n",
       "      <td>paid</td>\n",
       "      <td>123005</td>\n",
       "      <td>20914788</td>\n",
       "      <td>bank_transfer</td>\n",
       "      <td>...</td>\n",
       "      <td>None</td>\n",
       "      <td>None</td>\n",
       "      <td>INVOICE</td>\n",
       "      <td>99044</td>\n",
       "      <td>False</td>\n",
       "      <td>None</td>\n",
       "      <td>None</td>\n",
       "      <td>None</td>\n",
       "      <td>False</td>\n",
       "      <td>None</td>\n",
       "    </tr>\n",
       "  </tbody>\n",
       "</table>\n",
       "<p>1 rows × 63 columns</p>\n",
       "</div>"
      ],
      "text/plain": [
       "               created_at              updated_at       id   amount  \\\n",
       "0 2022-02-28 07:37:12.768 2022-03-07 19:21:21.635  2469750  9214.04   \n",
       "\n",
       "              invoice_id  contract_id status  user_id  internal_tx_id  \\\n",
       "0  7eS1awDLlhIPsBKm_jQLl         -200   paid   123005        20914788   \n",
       "\n",
       "  payment_method  ... autopilot_root_invoice_id  refund_for source_of_revenue  \\\n",
       "0  bank_transfer  ...                      None        None           INVOICE   \n",
       "\n",
       "   moved_to_processing_by_user_id  skip_releasing_balance released_by_date  \\\n",
       "0                           99044                   False             None   \n",
       "\n",
       "  autopay_rule_id sender_legal_entity_id is_sealed proof_of_payment_file_id  \n",
       "0            None                   None     False                     None  \n",
       "\n",
       "[1 rows x 63 columns]"
      ]
     },
     "execution_count": 23,
     "metadata": {},
     "output_type": "execute_result"
    }
   ],
   "source": [
    "invoice_df"
   ]
  },
  {
   "cell_type": "code",
   "execution_count": 24,
   "id": "236411df",
   "metadata": {},
   "outputs": [
    {
     "name": "stdout",
     "output_type": "stream",
     "text": [
      "created_at\n",
      "2022-02-28 07:37:12.768000\n",
      "************\n",
      "updated_at\n",
      "2022-03-07 19:21:21.635000\n",
      "************\n",
      "id\n",
      "2469750\n",
      "************\n",
      "amount\n",
      "9214.04\n",
      "************\n",
      "invoice_id\n",
      "7eS1awDLlhIPsBKm_jQLl\n",
      "************\n",
      "contract_id\n",
      "-200\n",
      "************\n",
      "status\n",
      "paid\n",
      "************\n",
      "user_id\n",
      "123005\n",
      "************\n",
      "internal_tx_id\n",
      "20914788\n",
      "************\n",
      "payment_method\n",
      "bank_transfer\n",
      "************\n",
      "tx_id\n",
      "DEELSKXHW8\n",
      "************\n",
      "contractor_id\n",
      "-100\n",
      "************\n",
      "rates\n",
      "{'rates': {'USD': '1', 'USDC': 1, 'AED': '3.673096', 'ALL': '108.612556', 'AMD': '482.077401', 'ARS': '107.459109', 'AUD': '1.389439', 'AZN': '1.701083', 'BAM': '1.750849', 'BBD': '2.021681', 'BDT': '86.085088', 'BGN': '1.73754', 'BHD': '0.377046', 'BMD': '1', 'BND': '1.356298', 'BOB': '6.883658', 'BRL': '5.163565', 'BSD': '1.001262', 'BWP': '11.615574', 'BYN': '2.761279', 'BZD': '2.01828', 'CAD': '1.27775', 'CDF': '2013.999741', 'CHF': '0.92619', 'CLP': '810.879476', 'CNY': '6.310994', 'COP': '3919.61', 'CRC': '641.983708', 'CUP': '26.5', 'CVE': '98.700729', 'CZK': '22.383011', 'DJF': '178.248843', 'DKK': '6.66046', 'DOP': '56.010205', 'DZD': '141.413027', 'EGP': '15.719144', 'ETB': '51.321126', 'EUR': '0.89507', 'FJD': '2.13315', 'GBP': '0.747445', 'GEL': '3.17017', 'GHS': '6.7782', 'GIP': '0.72792', 'GMD': '53.298647', 'GNF': '8990.211393', 'GTQ': '7.724284', 'GYD': '209.46959', 'HKD': '7.813355', 'HNL': '24.655131', 'HRK': '6.760097', 'HTG': '104.325953', 'HUF': '331.594954', 'IDR': '14384.25', 'ILS': '3.25824', 'INR': '75.475697', 'ISK': '126.369519', 'JMD': '155.351852', 'JOD': '0.70898', 'JPY': '115.506497', 'KES': '113.850269', 'KGS': '94.762598', 'KHR': '4070.11042', 'KMF': '438.375002', 'KRW': '1203.635028', 'KWD': '0.30318', 'KYD': '0.834419', 'KZT': '460.7073', 'LAK': '11467.077259', 'LBP': '1513.967406', 'LKR': '202.763798', 'LSL': '15.216915', 'LVL': '0.60489', 'MAD': '9.529799', 'MGA': '3993.536808', 'MMK': '1780.402653', 'MNT': '2858.831164', 'MOP': '8.053336', 'MRO': '356.999828', 'MUR': '44.050332', 'MVR': '15.449743', 'MWK': '804.664778', 'MXN': '20.53426', 'MYR': '4.200958', 'MZN': '63.829693', 'NAD': '15.199846', 'NGN': '417.040019', 'NIO': '35.500432', 'NOK': '8.960065', 'NPR': '120.594581', 'NZD': '1.490545', 'OMR': '0.38496', 'PAB': '1.001262', 'PEN': '3.800337', 'PGK': '3.54567', 'PHP': '51.3575', 'PKR': '177.774137', 'PLN': '4.21395', 'PYG': '6948.317302', 'QAR': '3.640973', 'RON': '4.42824', 'RSD': '104.340394', 'RUB': '108.999841', 'RWF': '1014.918158', 'SAR': '3.75257', 'SEK': '9.54415', 'SGD': '1.358755', 'SLL': '11699.9999', 'SRD': '20.519499', 'SVC': '8.761352', 'SZL': '15.286861', 'THB': '32.709796', 'TJS': '11.313011', 'TMT': '3.51', 'TND': '2.888971', 'TRY': '13.964665', 'TTD': '6.806229', 'TWD': '28.0385', 'TZS': '2315.000093', 'UAH': '30.087951', 'UGX': '3551.25296', 'UYU': '42.335734', 'VND': '22815', 'WST': '2.612343', 'XAG': '0.044408', 'XAU': '0.000553', 'ZAR': '15.36839', 'BTC': 'NaN', 'ETH': 'NaN'}, 'risk': 0, 'risks': {}}\n",
      "************\n",
      "fee\n",
      "4.5\n",
      "************\n",
      "deel_fee\n",
      "0.0\n",
      "************\n",
      "paid_at\n",
      "2022-02-28 07:44:12.280000\n",
      "************\n",
      "payment_fees\n",
      "{'stripe_card': {'USD': {'amount': '10294.21', 'deelFee': '0.00', 'adjustment': '0.00', 'exchangeFee': '210.88', 'total': '10803.92', 'fee': '298.83', 'paymentMethodFees': {'variable': '298.53', 'fixed': '0.30', 'spread': '0.00', 'total': '298.83'}}, 'EUR': {'amount': '9214.04', 'deelFee': '0.00', 'adjustment': '0.00', 'exchangeFee': '188.76', 'total': '9671.88', 'fee': '269.08', 'paymentMethodFees': {'variable': '267.21', 'fixed': '0.27', 'spread': '1.60', 'total': '269.08'}}, 'GBP': {'amount': '7694.35', 'deelFee': '0.00', 'adjustment': '0.00', 'exchangeFee': '157.62', 'total': '8076.67', 'fee': '224.70', 'paymentMethodFees': {'variable': '223.14', 'fixed': '0.22', 'spread': '1.34', 'total': '224.70'}}}, 'stripe_ach': {'USD': {'amount': '10294.21', 'deelFee': '0.00', 'adjustment': '0.00', 'exchangeFee': '210.88', 'total': '10510.09', 'fee': '5.00', 'paymentMethodFees': {'variable': '0.00', 'fixed': '5.00', 'spread': '0.00', 'total': '5.00'}}}, 'stripe_sepa_debit': {'EUR': {'amount': '9214.04', 'deelFee': '0.00', 'adjustment': '0.00', 'exchangeFee': '188.76', 'total': '9407.30', 'fee': '4.50', 'paymentMethodFees': {'variable': '0.00', 'fixed': '4.48', 'spread': '0.03', 'total': '4.50'}}}, 'stripe_bacs_debit': {'GBP': {'amount': '7694.35', 'deelFee': '0.00', 'adjustment': '0.00', 'exchangeFee': '157.62', 'total': '7855.73', 'fee': '3.76', 'paymentMethodFees': {'variable': '0.00', 'fixed': '3.74', 'spread': '0.02', 'total': '3.76'}}}, 'bank_transfer': {'AED': {'amount': '37811.61', 'deelFee': '0.00', 'adjustment': '0.00', 'exchangeFee': '774.60', 'total': '38604.69', 'fee': '18.48', 'paymentMethodFees': {'variable': '0.00', 'fixed': '18.37', 'spread': '0.11', 'total': '18.48'}}, 'ALL': {'amount': '1118080.23', 'deelFee': '0.00', 'adjustment': '0.00', 'exchangeFee': '22904.67', 'total': '1141531.22', 'fee': '546.32', 'paymentMethodFees': {'variable': '0.00', 'fixed': '543.06', 'spread': '3.26', 'total': '546.32'}}, 'AMD': {'amount': '4962605.00', 'deelFee': '0.00', 'adjustment': '0.00', 'exchangeFee': '101662.49', 'total': '5066692.34', 'fee': '2424.85', 'paymentMethodFees': {'variable': '0.00', 'fixed': '2410.39', 'spread': '14.46', 'total': '2424.85'}}, 'ARS': {'amount': '1106206.41', 'deelFee': '0.00', 'adjustment': '0.00', 'exchangeFee': '22661.42', 'total': '1129408.35', 'fee': '540.52', 'paymentMethodFees': {'variable': '0.00', 'fixed': '537.30', 'spread': '3.22', 'total': '540.52'}}, 'AUD': {'amount': '14303.17', 'deelFee': '0.00', 'adjustment': '0.00', 'exchangeFee': '293.01', 'total': '14603.17', 'fee': '6.99', 'paymentMethodFees': {'variable': '0.00', 'fixed': '6.95', 'spread': '0.04', 'total': '6.99'}}, 'AZN': {'amount': '17511.30', 'deelFee': '0.00', 'adjustment': '0.00', 'exchangeFee': '358.73', 'total': '17878.59', 'fee': '8.56', 'paymentMethodFees': {'variable': '0.00', 'fixed': '8.51', 'spread': '0.05', 'total': '8.56'}}, 'BAM': {'amount': '18023.60', 'deelFee': '0.00', 'adjustment': '0.00', 'exchangeFee': '369.23', 'total': '18401.64', 'fee': '8.81', 'paymentMethodFees': {'variable': '0.00', 'fixed': '8.75', 'spread': '0.05', 'total': '8.81'}}, 'BBD': {'amount': '20811.60', 'deelFee': '0.00', 'adjustment': '0.00', 'exchangeFee': '426.34', 'total': '21248.11', 'fee': '10.17', 'paymentMethodFees': {'variable': '0.00', 'fixed': '10.11', 'spread': '0.06', 'total': '10.17'}}, 'BDT': {'amount': '886177.79', 'deelFee': '0.00', 'adjustment': '0.00', 'exchangeFee': '18153.98', 'total': '904764.78', 'fee': '433.01', 'paymentMethodFees': {'variable': '0.00', 'fixed': '430.43', 'spread': '2.58', 'total': '433.01'}}, 'BGN': {'amount': '17886.60', 'deelFee': '0.00', 'adjustment': '0.00', 'exchangeFee': '366.42', 'total': '18261.76', 'fee': '8.74', 'paymentMethodFees': {'variable': '0.00', 'fixed': '8.69', 'spread': '0.05', 'total': '8.74'}}, 'BHD': {'amount': '3881.39', 'deelFee': '0.00', 'adjustment': '0.00', 'exchangeFee': '79.51', 'total': '3962.80', 'fee': '1.90', 'paymentMethodFees': {'variable': '0.00', 'fixed': '1.89', 'spread': '0.01', 'total': '1.90'}}, 'BMD': {'amount': '10294.21', 'deelFee': '0.00', 'adjustment': '0.00', 'exchangeFee': '210.88', 'total': '10510.12', 'fee': '5.03', 'paymentMethodFees': {'variable': '0.00', 'fixed': '5.00', 'spread': '0.03', 'total': '5.03'}}, 'BND': {'amount': '13962.01', 'deelFee': '0.00', 'adjustment': '0.00', 'exchangeFee': '286.02', 'total': '14254.85', 'fee': '6.82', 'paymentMethodFees': {'variable': '0.00', 'fixed': '6.78', 'spread': '0.04', 'total': '6.82'}}, 'BOB': {'amount': '70861.81', 'deelFee': '0.00', 'adjustment': '0.00', 'exchangeFee': '1451.65', 'total': '72348.08', 'fee': '34.62', 'paymentMethodFees': {'variable': '0.00', 'fixed': '34.42', 'spread': '0.21', 'total': '34.62'}}, 'BRL': {'amount': '53154.81', 'deelFee': '0.00', 'adjustment': '0.00', 'exchangeFee': '1088.91', 'total': '54269.69', 'fee': '25.97', 'paymentMethodFees': {'variable': '0.00', 'fixed': '25.82', 'spread': '0.15', 'total': '25.97'}}, 'BSD': {'amount': '10307.20', 'deelFee': '0.00', 'adjustment': '0.00', 'exchangeFee': '211.15', 'total': '10523.39', 'fee': '5.04', 'paymentMethodFees': {'variable': '0.00', 'fixed': '5.01', 'spread': '0.03', 'total': '5.04'}}, 'BWP': {'amount': '119573.13', 'deelFee': '0.00', 'adjustment': '0.00', 'exchangeFee': '2449.54', 'total': '122081.10', 'fee': '58.43', 'paymentMethodFees': {'variable': '0.00', 'fixed': '58.08', 'spread': '0.35', 'total': '58.43'}}, 'BYN': {'amount': '28425.18', 'deelFee': '0.00', 'adjustment': '0.00', 'exchangeFee': '582.31', 'total': '29021.38', 'fee': '13.89', 'paymentMethodFees': {'variable': '0.00', 'fixed': '13.81', 'spread': '0.08', 'total': '13.89'}}, 'BZD': {'amount': '20776.59', 'deelFee': '0.00', 'adjustment': '0.00', 'exchangeFee': '425.62', 'total': '21212.36', 'fee': '10.15', 'paymentMethodFees': {'variable': '0.00', 'fixed': '10.09', 'spread': '0.06', 'total': '10.15'}}, 'CAD': {'amount': '13153.42', 'deelFee': '0.00', 'adjustment': '0.00', 'exchangeFee': '269.46', 'total': '13429.31', 'fee': '6.43', 'paymentMethodFees': {'variable': '0.00', 'fixed': '6.39', 'spread': '0.04', 'total': '6.43'}}, 'CDF': {'amount': '20732532.08', 'deelFee': '0.00', 'adjustment': '0.00', 'exchangeFee': '424720.64', 'total': '21167383.14', 'fee': '10130.42', 'paymentMethodFees': {'variable': '0.00', 'fixed': '10070.00', 'spread': '60.42', 'total': '10130.42'}}, 'CHF': {'amount': '9534.39', 'deelFee': '0.00', 'adjustment': '0.00', 'exchangeFee': '195.32', 'total': '9734.37', 'fee': '4.66', 'paymentMethodFees': {'variable': '0.00', 'fixed': '4.63', 'spread': '0.03', 'total': '4.66'}}, 'CLP': {'amount': '8347361.92', 'deelFee': '0.00', 'adjustment': '0.00', 'exchangeFee': '171001.64', 'total': '8522442.28', 'fee': '4078.72', 'paymentMethodFees': {'variable': '0.00', 'fixed': '4054.40', 'spread': '24.33', 'total': '4078.72'}}, 'CNY': {'amount': '64966.68', 'deelFee': '0.00', 'adjustment': '0.00', 'exchangeFee': '1330.89', 'total': '66329.31', 'fee': '31.74', 'paymentMethodFees': {'variable': '0.00', 'fixed': '31.55', 'spread': '0.19', 'total': '31.74'}}, 'COP': {'amount': '40349280.29', 'deelFee': '0.00', 'adjustment': '0.00', 'exchangeFee': '826583.66', 'total': '41195579.59', 'fee': '19715.64', 'paymentMethodFees': {'variable': '0.00', 'fixed': '19598.05', 'spread': '117.59', 'total': '19715.64'}}, 'CRC': {'amount': '6608713.77', 'deelFee': '0.00', 'adjustment': '0.00', 'exchangeFee': '135384.19', 'total': '6747327.14', 'fee': '3229.18', 'paymentMethodFees': {'variable': '0.00', 'fixed': '3209.92', 'spread': '19.26', 'total': '3229.18'}}, 'CUP': {'amount': '272796.51', 'deelFee': '0.00', 'adjustment': '0.00', 'exchangeFee': '5588.43', 'total': '278518.24', 'fee': '133.30', 'paymentMethodFees': {'variable': '0.00', 'fixed': '132.50', 'spread': '0.80', 'total': '133.30'}}, 'CVE': {'amount': '1016045.83', 'deelFee': '0.00', 'adjustment': '0.00', 'exchangeFee': '20814.42', 'total': '1037356.71', 'fee': '496.46', 'paymentMethodFees': {'variable': '0.00', 'fixed': '493.50', 'spread': '2.96', 'total': '496.46'}}, 'CZK': {'amount': '230415.37', 'deelFee': '0.00', 'adjustment': '0.00', 'exchangeFee': '4720.22', 'total': '235248.18', 'fee': '112.59', 'paymentMethodFees': {'variable': '0.00', 'fixed': '111.92', 'spread': '0.67', 'total': '112.59'}}, 'DJF': {'amount': '1834930.65', 'deelFee': '0.00', 'adjustment': '0.00', 'exchangeFee': '37589.86', 'total': '1873417.10', 'fee': '896.59', 'paymentMethodFees': {'variable': '0.00', 'fixed': '891.24', 'spread': '5.35', 'total': '896.59'}}, 'DKK': {'amount': '68564.16', 'deelFee': '0.00', 'adjustment': '0.00', 'exchangeFee': '1404.59', 'total': '70002.25', 'fee': '33.50', 'paymentMethodFees': {'variable': '0.00', 'fixed': '33.30', 'spread': '0.20', 'total': '33.50'}}, 'DOP': {'amount': '576580.70', 'deelFee': '0.00', 'adjustment': '0.00', 'exchangeFee': '11811.67', 'total': '588674.10', 'fee': '281.73', 'paymentMethodFees': {'variable': '0.00', 'fixed': '280.05', 'spread': '1.68', 'total': '281.73'}}, 'DZD': {'amount': '1455735.10', 'deelFee': '0.00', 'adjustment': '0.00', 'exchangeFee': '29821.77', 'total': '1486268.18', 'fee': '711.31', 'paymentMethodFees': {'variable': '0.00', 'fixed': '707.07', 'spread': '4.24', 'total': '711.31'}}, 'EGP': {'amount': '161816.14', 'deelFee': '0.00', 'adjustment': '0.00', 'exchangeFee': '3314.92', 'total': '165210.13', 'fee': '79.07', 'paymentMethodFees': {'variable': '0.00', 'fixed': '78.60', 'spread': '0.47', 'total': '79.07'}}, 'ETB': {'amount': '528310.34', 'deelFee': '0.00', 'adjustment': '0.00', 'exchangeFee': '10822.81', 'total': '539391.30', 'fee': '258.15', 'paymentMethodFees': {'variable': '0.00', 'fixed': '256.61', 'spread': '1.54', 'total': '258.15'}}, 'EUR': {'amount': '9214.04', 'deelFee': '0.00', 'adjustment': '0.00', 'exchangeFee': '188.76', 'total': '9407.30', 'fee': '4.50', 'paymentMethodFees': {'variable': '0.00', 'fixed': '4.48', 'spread': '0.03', 'total': '4.50'}}, 'FJD': {'amount': '21959.09', 'deelFee': '0.00', 'adjustment': '0.00', 'exchangeFee': '449.85', 'total': '22419.67', 'fee': '10.73', 'paymentMethodFees': {'variable': '0.00', 'fixed': '10.67', 'spread': '0.06', 'total': '10.73'}}, 'GBP': {'amount': '7694.35', 'deelFee': '0.00', 'adjustment': '0.00', 'exchangeFee': '157.62', 'total': '7855.73', 'fee': '3.76', 'paymentMethodFees': {'variable': '0.00', 'fixed': '3.74', 'spread': '0.02', 'total': '3.76'}}, 'GEL': {'amount': '32634.39', 'deelFee': '0.00', 'adjustment': '0.00', 'exchangeFee': '668.54', 'total': '33318.88', 'fee': '15.95', 'paymentMethodFees': {'variable': '0.00', 'fixed': '15.85', 'spread': '0.10', 'total': '15.95'}}, 'GHS': {'amount': '69776.20', 'deelFee': '0.00', 'adjustment': '0.00', 'exchangeFee': '1429.42', 'total': '71239.71', 'fee': '34.09', 'paymentMethodFees': {'variable': '0.00', 'fixed': '33.89', 'spread': '0.20', 'total': '34.09'}}, 'GIP': {'amount': '7493.36', 'deelFee': '0.00', 'adjustment': '0.00', 'exchangeFee': '153.51', 'total': '7650.53', 'fee': '3.66', 'paymentMethodFees': {'variable': '0.00', 'fixed': '3.64', 'spread': '0.02', 'total': '3.66'}}, 'GMD': {'amount': '548667.35', 'deelFee': '0.00', 'adjustment': '0.00', 'exchangeFee': '11239.84', 'total': '560175.28', 'fee': '268.09', 'paymentMethodFees': {'variable': '0.00', 'fixed': '266.49', 'spread': '1.60', 'total': '268.09'}}, 'GNF': {'amount': '92547105.29', 'deelFee': '0.00', 'adjustment': '0.00', 'exchangeFee': '1895893.16', 'total': '94488219.21', 'fee': '45220.76', 'paymentMethodFees': {'variable': '0.00', 'fixed': '44951.06', 'spread': '269.71', 'total': '45220.76'}}, 'GTQ': {'amount': '79515.39', 'deelFee': '0.00', 'adjustment': '0.00', 'exchangeFee': '1628.93', 'total': '81183.17', 'fee': '38.85', 'paymentMethodFees': {'variable': '0.00', 'fixed': '38.62', 'spread': '0.23', 'total': '38.85'}}, 'GYD': {'amount': '2156323.51', 'deelFee': '0.00', 'adjustment': '0.00', 'exchangeFee': '44173.82', 'total': '2201550.96', 'fee': '1053.63', 'paymentMethodFees': {'variable': '0.00', 'fixed': '1047.35', 'spread': '6.28', 'total': '1053.63'}}, 'HKD': {'amount': '80432.30', 'deelFee': '0.00', 'adjustment': '0.00', 'exchangeFee': '1647.71', 'total': '82119.31', 'fee': '39.30', 'paymentMethodFees': {'variable': '0.00', 'fixed': '39.07', 'spread': '0.23', 'total': '39.30'}}, 'HNL': {'amount': '253805.04', 'deelFee': '0.00', 'adjustment': '0.00', 'exchangeFee': '5199.38', 'total': '259128.44', 'fee': '124.02', 'paymentMethodFees': {'variable': '0.00', 'fixed': '123.28', 'spread': '0.74', 'total': '124.02'}}, 'HRK': {'amount': '69589.84', 'deelFee': '0.00', 'adjustment': '0.00', 'exchangeFee': '1425.60', 'total': '71049.44', 'fee': '34.00', 'paymentMethodFees': {'variable': '0.00', 'fixed': '33.80', 'spread': '0.20', 'total': '34.00'}}, 'HTG': {'amount': '1073953.05', 'deelFee': '0.00', 'adjustment': '0.00', 'exchangeFee': '22000.69', 'total': '1096478.50', 'fee': '524.76', 'paymentMethodFees': {'variable': '0.00', 'fixed': '521.63', 'spread': '3.13', 'total': '524.76'}}, 'HUF': {'amount': '3413507.40', 'deelFee': '0.00', 'adjustment': '0.00', 'exchangeFee': '69928.12', 'total': '3485103.44', 'fee': '1667.92', 'paymentMethodFees': {'variable': '0.00', 'fixed': '1657.97', 'spread': '9.95', 'total': '1667.92'}}, 'IDR': {'amount': '148074460.21', 'deelFee': '0.00', 'adjustment': '0.00', 'exchangeFee': '3033410.45', 'total': '151180223.44', 'fee': '72352.78', 'paymentMethodFees': {'variable': '0.00', 'fixed': '71921.25', 'spread': '431.53', 'total': '72352.78'}}, 'ILS': {'amount': '33541.00', 'deelFee': '0.00', 'adjustment': '0.00', 'exchangeFee': '0.00', 'total': '33557.39', 'fee': '16.39', 'paymentMethodFees': {'variable': '0.00', 'fixed': '16.29', 'spread': '0.10', 'total': '16.39'}}, 'INR': {'amount': '776962.52', 'deelFee': '0.00', 'adjustment': '0.00', 'exchangeFee': '15916.63', 'total': '793258.79', 'fee': '379.64', 'paymentMethodFees': {'variable': '0.00', 'fixed': '377.38', 'spread': '2.26', 'total': '379.64'}}, 'ISK': {'amount': '1300874.10', 'deelFee': '0.00', 'adjustment': '0.00', 'exchangeFee': '26649.33', 'total': '1328159.07', 'fee': '635.64', 'paymentMethodFees': {'variable': '0.00', 'fixed': '631.85', 'spread': '3.79', 'total': '635.64'}}, 'JMD': {'amount': '1599224.26', 'deelFee': '0.00', 'adjustment': '0.00', 'exchangeFee': '32761.24', 'total': '1632766.92', 'fee': '781.42', 'paymentMethodFees': {'variable': '0.00', 'fixed': '776.76', 'spread': '4.66', 'total': '781.42'}}, 'JOD': {'amount': '7298.39', 'deelFee': '0.00', 'adjustment': '0.00', 'exchangeFee': '149.51', 'total': '7451.47', 'fee': '3.57', 'paymentMethodFees': {'variable': '0.00', 'fixed': '3.54', 'spread': '0.02', 'total': '3.57'}}, 'JPY': {'amount': '1189047.90', 'deelFee': '0.00', 'adjustment': '0.00', 'exchangeFee': '24358.49', 'total': '1213987.39', 'fee': '581.00', 'paymentMethodFees': {'variable': '0.00', 'fixed': '577.53', 'spread': '3.47', 'total': '581.00'}}, 'KES': {'amount': '1171998.34', 'deelFee': '0.00', 'adjustment': '0.00', 'exchangeFee': '24009.22', 'total': '1196580.23', 'fee': '572.67', 'paymentMethodFees': {'variable': '0.00', 'fixed': '569.25', 'spread': '3.42', 'total': '572.67'}}, 'KGS': {'amount': '975505.89', 'deelFee': '0.00', 'adjustment': '0.00', 'exchangeFee': '19983.93', 'total': '995966.48', 'fee': '476.66', 'paymentMethodFees': {'variable': '0.00', 'fixed': '473.81', 'spread': '2.84', 'total': '476.66'}}, 'KHR': {'amount': '41898562.90', 'deelFee': '0.00', 'adjustment': '0.00', 'exchangeFee': '858321.81', 'total': '42777357.37', 'fee': '20472.66', 'paymentMethodFees': {'variable': '0.00', 'fixed': '20350.55', 'spread': '122.10', 'total': '20472.66'}}, 'KMF': {'amount': '4512723.42', 'deelFee': '0.00', 'adjustment': '0.00', 'exchangeFee': '92446.34', 'total': '4607374.79', 'fee': '2205.03', 'paymentMethodFees': {'variable': '0.00', 'fixed': '2191.88', 'spread': '13.15', 'total': '2205.03'}}, 'KRW': {'amount': '12390469.23', 'deelFee': '0.00', 'adjustment': '0.00', 'exchangeFee': '253827.56', 'total': '12650351.07', 'fee': '6054.28', 'paymentMethodFees': {'variable': '0.00', 'fixed': '6018.18', 'spread': '36.11', 'total': '6054.28'}}, 'KWD': {'amount': '3121.00', 'deelFee': '0.00', 'adjustment': '0.00', 'exchangeFee': '63.94', 'total': '3186.46', 'fee': '1.52', 'paymentMethodFees': {'variable': '0.00', 'fixed': '1.52', 'spread': '0.01', 'total': '1.52'}}, 'KYD': {'amount': '8589.68', 'deelFee': '0.00', 'adjustment': '0.00', 'exchangeFee': '175.97', 'total': '8769.85', 'fee': '4.20', 'paymentMethodFees': {'variable': '0.00', 'fixed': '4.17', 'spread': '0.03', 'total': '4.20'}}, 'KZT': {'amount': '4742616.73', 'deelFee': '0.00', 'adjustment': '0.00', 'exchangeFee': '97155.87', 'total': '4842089.96', 'fee': '2317.36', 'paymentMethodFees': {'variable': '0.00', 'fixed': '2303.54', 'spread': '13.82', 'total': '2317.36'}}, 'LAK': {'amount': '118044477.49', 'deelFee': '0.00', 'adjustment': '0.00', 'exchangeFee': '2418224.94', 'total': '120520381.83', 'fee': '57679.40', 'paymentMethodFees': {'variable': '0.00', 'fixed': '57335.39', 'spread': '344.01', 'total': '57679.40'}}, 'LBP': {'amount': '15585095.26', 'deelFee': '0.00', 'adjustment': '0.00', 'exchangeFee': '319271.74', 'total': '15911982.26', 'fee': '7615.26', 'paymentMethodFees': {'variable': '0.00', 'fixed': '7569.84', 'spread': '45.42', 'total': '7615.26'}}, 'LKR': {'amount': '2087292.69', 'deelFee': '0.00', 'adjustment': '0.00', 'exchangeFee': '42759.67', 'total': '2131072.26', 'fee': '1019.90', 'paymentMethodFees': {'variable': '0.00', 'fixed': '1013.82', 'spread': '6.08', 'total': '1019.90'}}, 'LSL': {'amount': '156646.09', 'deelFee': '0.00', 'adjustment': '0.00', 'exchangeFee': '3209.01', 'total': '159931.64', 'fee': '76.54', 'paymentMethodFees': {'variable': '0.00', 'fixed': '76.08', 'spread': '0.46', 'total': '76.54'}}, 'LVL': {'amount': '6226.86', 'deelFee': '0.00', 'adjustment': '0.00', 'exchangeFee': '127.56', 'total': '6357.46', 'fee': '3.04', 'paymentMethodFees': {'variable': '0.00', 'fixed': '3.02', 'spread': '0.02', 'total': '3.04'}}, 'MAD': {'amount': '98101.73', 'deelFee': '0.00', 'adjustment': '0.00', 'exchangeFee': '2009.68', 'total': '100159.34', 'fee': '47.93', 'paymentMethodFees': {'variable': '0.00', 'fixed': '47.65', 'spread': '0.29', 'total': '47.93'}}, 'MGA': {'amount': '41110298.22', 'deelFee': '0.00', 'adjustment': '0.00', 'exchangeFee': '842173.65', 'total': '41972559.36', 'fee': '20087.49', 'paymentMethodFees': {'variable': '0.00', 'fixed': '19967.68', 'spread': '119.81', 'total': '20087.49'}}, 'MMK': {'amount': '18327835.08', 'deelFee': '0.00', 'adjustment': '0.00', 'exchangeFee': '375458.71', 'total': '18712249.22', 'fee': '8955.43', 'paymentMethodFees': {'variable': '0.00', 'fixed': '8902.01', 'spread': '53.41', 'total': '8955.43'}}, 'MNT': {'amount': '29429402.40', 'deelFee': '0.00', 'adjustment': '0.00', 'exchangeFee': '602882.20', 'total': '30046664.52', 'fee': '14379.92', 'paymentMethodFees': {'variable': '0.00', 'fixed': '14294.16', 'spread': '85.76', 'total': '14379.92'}}, 'MOP': {'amount': '82902.72', 'deelFee': '0.00', 'adjustment': '0.00', 'exchangeFee': '1698.32', 'total': '84641.55', 'fee': '40.51', 'paymentMethodFees': {'variable': '0.00', 'fixed': '40.27', 'spread': '0.24', 'total': '40.51'}}, 'MRO': {'amount': '3675030.46', 'deelFee': '0.00', 'adjustment': '0.00', 'exchangeFee': '75285.61', 'total': '3752111.78', 'fee': '1795.71', 'paymentMethodFees': {'variable': '0.00', 'fixed': '1785.00', 'spread': '10.71', 'total': '1795.71'}}, 'MUR': {'amount': '453463.28', 'deelFee': '0.00', 'adjustment': '0.00', 'exchangeFee': '9289.52', 'total': '462974.37', 'fee': '221.57', 'paymentMethodFees': {'variable': '0.00', 'fixed': '220.25', 'spread': '1.32', 'total': '221.57'}}, 'MVR': {'amount': '159042.87', 'deelFee': '0.00', 'adjustment': '0.00', 'exchangeFee': '3258.11', 'total': '162378.69', 'fee': '77.71', 'paymentMethodFees': {'variable': '0.00', 'fixed': '77.25', 'spread': '0.46', 'total': '77.71'}}, 'MWK': {'amount': '8283386.53', 'deelFee': '0.00', 'adjustment': '0.00', 'exchangeFee': '169691.05', 'total': '8457125.04', 'fee': '4047.46', 'paymentMethodFees': {'variable': '0.00', 'fixed': '4023.32', 'spread': '24.14', 'total': '4047.46'}}, 'MXN': {'amount': '211383.94', 'deelFee': '0.00', 'adjustment': '0.00', 'exchangeFee': '4330.35', 'total': '215817.58', 'fee': '103.29', 'paymentMethodFees': {'variable': '0.00', 'fixed': '102.67', 'spread': '0.62', 'total': '103.29'}}, 'MYR': {'amount': '43245.54', 'deelFee': '0.00', 'adjustment': '0.00', 'exchangeFee': '885.92', 'total': '44152.59', 'fee': '21.13', 'paymentMethodFees': {'variable': '0.00', 'fixed': '21.00', 'spread': '0.13', 'total': '21.13'}}, 'MZN': {'amount': '657076.13', 'deelFee': '0.00', 'adjustment': '0.00', 'exchangeFee': '13460.67', 'total': '670857.86', 'fee': '321.06', 'paymentMethodFees': {'variable': '0.00', 'fixed': '319.15', 'spread': '1.91', 'total': '321.06'}}, 'NAD': {'amount': '156470.38', 'deelFee': '0.00', 'adjustment': '0.00', 'exchangeFee': '3205.41', 'total': '159752.25', 'fee': '76.46', 'paymentMethodFees': {'variable': '0.00', 'fixed': '76.00', 'spread': '0.46', 'total': '76.46'}}, 'NGN': {'amount': '4293096.66', 'deelFee': '0.00', 'adjustment': '0.00', 'exchangeFee': '87947.13', 'total': '4383141.50', 'fee': '2097.71', 'paymentMethodFees': {'variable': '0.00', 'fixed': '2085.20', 'spread': '12.51', 'total': '2097.71'}}, 'NIO': {'amount': '365448.83', 'deelFee': '0.00', 'adjustment': '0.00', 'exchangeFee': '7486.48', 'total': '373113.88', 'fee': '178.57', 'paymentMethodFees': {'variable': '0.00', 'fixed': '177.50', 'spread': '1.07', 'total': '178.57'}}, 'NOK': {'amount': '92236.77', 'deelFee': '0.00', 'adjustment': '0.00', 'exchangeFee': '1889.54', 'total': '94171.38', 'fee': '45.07', 'paymentMethodFees': {'variable': '0.00', 'fixed': '44.80', 'spread': '0.27', 'total': '45.07'}}, 'NPR': {'amount': '1241425.69', 'deelFee': '0.00', 'adjustment': '0.00', 'exchangeFee': '25431.49', 'total': '1267463.77', 'fee': '606.59', 'paymentMethodFees': {'variable': '0.00', 'fixed': '602.97', 'spread': '3.62', 'total': '606.59'}}, 'NZD': {'amount': '15343.98', 'deelFee': '0.00', 'adjustment': '0.00', 'exchangeFee': '314.33', 'total': '15665.81', 'fee': '7.50', 'paymentMethodFees': {'variable': '0.00', 'fixed': '7.45', 'spread': '0.04', 'total': '7.50'}}, 'OMR': {'amount': '3962.86', 'deelFee': '0.00', 'adjustment': '0.00', 'exchangeFee': '81.18', 'total': '4045.98', 'fee': '1.94', 'paymentMethodFees': {'variable': '0.00', 'fixed': '1.92', 'spread': '0.01', 'total': '1.94'}}, 'PAB': {'amount': '10307.20', 'deelFee': '0.00', 'adjustment': '0.00', 'exchangeFee': '211.15', 'total': '10523.39', 'fee': '5.04', 'paymentMethodFees': {'variable': '0.00', 'fixed': '5.01', 'spread': '0.03', 'total': '5.04'}}, 'PEN': {'amount': '39121.46', 'deelFee': '0.00', 'adjustment': '0.00', 'exchangeFee': '801.43', 'total': '39942.01', 'fee': '19.12', 'paymentMethodFees': {'variable': '0.00', 'fixed': '19.00', 'spread': '0.11', 'total': '19.12'}}, 'PGK': {'amount': '36499.86', 'deelFee': '0.00', 'adjustment': '0.00', 'exchangeFee': '747.73', 'total': '37265.42', 'fee': '17.83', 'paymentMethodFees': {'variable': '0.00', 'fixed': '17.73', 'spread': '0.11', 'total': '17.83'}}, 'PHP': {'amount': '528684.78', 'deelFee': '0.00', 'adjustment': '0.00', 'exchangeFee': '10830.48', 'total': '539773.59', 'fee': '258.33', 'paymentMethodFees': {'variable': '0.00', 'fixed': '256.79', 'spread': '1.54', 'total': '258.33'}}, 'PKR': {'amount': '1830043.93', 'deelFee': '0.00', 'adjustment': '0.00', 'exchangeFee': '37489.75', 'total': '1868427.88', 'fee': '894.20', 'paymentMethodFees': {'variable': '0.00', 'fixed': '888.87', 'spread': '5.33', 'total': '894.20'}}, 'PLN': {'amount': '43379.28', 'deelFee': '0.00', 'adjustment': '0.00', 'exchangeFee': '888.66', 'total': '44289.14', 'fee': '21.20', 'paymentMethodFees': {'variable': '0.00', 'fixed': '21.07', 'spread': '0.13', 'total': '21.20'}}, 'PYG': {'amount': '71527422.97', 'deelFee': '0.00', 'adjustment': '0.00', 'exchangeFee': '1465290.05', 'total': '73027663.06', 'fee': '34950.04', 'paymentMethodFees': {'variable': '0.00', 'fixed': '34741.59', 'spread': '208.45', 'total': '34950.04'}}, 'QAR': {'amount': '37480.93', 'deelFee': '0.00', 'adjustment': '0.00', 'exchangeFee': '767.82', 'total': '38267.06', 'fee': '18.31', 'paymentMethodFees': {'variable': '0.00', 'fixed': '18.20', 'spread': '0.11', 'total': '18.31'}}, 'RON': {'amount': '45585.22', 'deelFee': '0.00', 'adjustment': '0.00', 'exchangeFee': '933.85', 'total': '46541.34', 'fee': '22.27', 'paymentMethodFees': {'variable': '0.00', 'fixed': '22.14', 'spread': '0.13', 'total': '22.27'}}, 'RSD': {'amount': '1074101.71', 'deelFee': '0.00', 'adjustment': '0.00', 'exchangeFee': '22003.74', 'total': '1096630.28', 'fee': '524.83', 'paymentMethodFees': {'variable': '0.00', 'fixed': '521.70', 'spread': '3.13', 'total': '524.83'}}, 'RUB': {'amount': '1122067.03', 'deelFee': '0.00', 'adjustment': '0.00', 'exchangeFee': '22986.34', 'total': '1145601.64', 'fee': '548.27', 'paymentMethodFees': {'variable': '0.00', 'fixed': '545.00', 'spread': '3.27', 'total': '548.27'}}, 'RWF': {'amount': '10447778.54', 'deelFee': '0.00', 'adjustment': '0.00', 'exchangeFee': '214030.16', 'total': '10666913.74', 'fee': '5105.04', 'paymentMethodFees': {'variable': '0.00', 'fixed': '5074.59', 'spread': '30.45', 'total': '5105.04'}}, 'SAR': {'amount': '38629.74', 'deelFee': '0.00', 'adjustment': '0.00', 'exchangeFee': '791.36', 'total': '39439.98', 'fee': '18.88', 'paymentMethodFees': {'variable': '0.00', 'fixed': '18.76', 'spread': '0.11', 'total': '18.88'}}, 'SEK': {'amount': '98249.46', 'deelFee': '0.00', 'adjustment': '0.00', 'exchangeFee': '2012.71', 'total': '100310.18', 'fee': '48.01', 'paymentMethodFees': {'variable': '0.00', 'fixed': '47.72', 'spread': '0.29', 'total': '48.01'}}, 'SGD': {'amount': '13987.31', 'deelFee': '0.00', 'adjustment': '0.00', 'exchangeFee': '286.54', 'total': '14280.68', 'fee': '6.83', 'paymentMethodFees': {'variable': '0.00', 'fixed': '6.79', 'spread': '0.04', 'total': '6.83'}}, 'SLL': {'amount': '120442231.59', 'deelFee': '0.00', 'adjustment': '0.00', 'exchangeFee': '2467344.63', 'total': '122968427.22', 'fee': '58851.00', 'paymentMethodFees': {'variable': '0.00', 'fixed': '58500.00', 'spread': '351.00', 'total': '58851.00'}}, 'SRD': {'amount': '211231.99', 'deelFee': '0.00', 'adjustment': '0.00', 'exchangeFee': '4327.24', 'total': '215662.44', 'fee': '103.21', 'paymentMethodFees': {'variable': '0.00', 'fixed': '102.60', 'spread': '0.62', 'total': '103.21'}}, 'SVC': {'amount': '90191.18', 'deelFee': '0.00', 'adjustment': '0.00', 'exchangeFee': '1847.63', 'total': '92082.88', 'fee': '44.07', 'paymentMethodFees': {'variable': '0.00', 'fixed': '43.81', 'spread': '0.26', 'total': '44.07'}}, 'SZL': {'amount': '157366.13', 'deelFee': '0.00', 'adjustment': '0.00', 'exchangeFee': '3223.76', 'total': '160666.78', 'fee': '76.89', 'paymentMethodFees': {'variable': '0.00', 'fixed': '76.43', 'spread': '0.46', 'total': '76.89'}}, 'THB': {'amount': '336721.44', 'deelFee': '0.00', 'adjustment': '0.00', 'exchangeFee': '6897.98', 'total': '343783.95', 'fee': '164.53', 'paymentMethodFees': {'variable': '0.00', 'fixed': '163.55', 'spread': '0.98', 'total': '164.53'}}, 'TJS': {'amount': '116458.49', 'deelFee': '0.00', 'adjustment': '0.00', 'exchangeFee': '2385.73', 'total': '118901.12', 'fee': '56.90', 'paymentMethodFees': {'variable': '0.00', 'fixed': '56.57', 'spread': '0.34', 'total': '56.90'}}, 'TMT': {'amount': '36132.67', 'deelFee': '0.00', 'adjustment': '0.00', 'exchangeFee': '740.20', 'total': '36890.53', 'fee': '17.66', 'paymentMethodFees': {'variable': '0.00', 'fixed': '17.55', 'spread': '0.11', 'total': '17.66'}}, 'TND': {'amount': '29739.67', 'deelFee': '0.00', 'adjustment': '0.00', 'exchangeFee': '609.24', 'total': '30363.44', 'fee': '14.53', 'paymentMethodFees': {'variable': '0.00', 'fixed': '14.44', 'spread': '0.09', 'total': '14.53'}}, 'TRY': {'amount': '143755.16', 'deelFee': '0.00', 'adjustment': '0.00', 'exchangeFee': '2944.93', 'total': '146770.33', 'fee': '70.24', 'paymentMethodFees': {'variable': '0.00', 'fixed': '69.82', 'spread': '0.42', 'total': '70.24'}}, 'TTD': {'amount': '70064.74', 'deelFee': '0.00', 'adjustment': '0.00', 'exchangeFee': '1435.33', 'total': '71534.31', 'fee': '34.24', 'paymentMethodFees': {'variable': '0.00', 'fixed': '34.03', 'spread': '0.20', 'total': '34.24'}}, 'TWD': {'amount': '288634.15', 'deelFee': '0.00', 'adjustment': '0.00', 'exchangeFee': '5912.88', 'total': '294688.06', 'fee': '141.03', 'paymentMethodFees': {'variable': '0.00', 'fixed': '140.19', 'spread': '0.84', 'total': '141.03'}}, 'TZS': {'amount': '23831092.28', 'deelFee': '0.00', 'adjustment': '0.00', 'exchangeFee': '488196.85', 'total': '24330933.58', 'fee': '11644.45', 'paymentMethodFees': {'variable': '0.00', 'fixed': '11575.00', 'spread': '69.45', 'total': '11644.45'}}, 'UAH': {'amount': '309731.62', 'deelFee': '0.00', 'adjustment': '0.00', 'exchangeFee': '6345.07', 'total': '316228.03', 'fee': '151.34', 'paymentMethodFees': {'variable': '0.00', 'fixed': '150.44', 'spread': '0.90', 'total': '151.34'}}, 'UGX': {'amount': '36557336.33', 'deelFee': '0.00', 'adjustment': '0.00', 'exchangeFee': '748902.99', 'total': '37324102.12', 'fee': '17862.80', 'paymentMethodFees': {'variable': '0.00', 'fixed': '17756.26', 'spread': '106.54', 'total': '17862.80'}}, 'USD': {'amount': '10294.21', 'deelFee': '0.00', 'adjustment': '0.00', 'exchangeFee': '210.88', 'total': '10510.09', 'fee': '5.00', 'paymentMethodFees': {'variable': '0.00', 'fixed': '5.00', 'spread': '0.00', 'total': '5.00'}}, 'UYU': {'amount': '435812.85', 'deelFee': '0.00', 'adjustment': '0.00', 'exchangeFee': '8927.94', 'total': '444953.74', 'fee': '212.95', 'paymentMethodFees': {'variable': '0.00', 'fixed': '211.68', 'spread': '1.27', 'total': '212.95'}}, 'VND': {'amount': '234862353.60', 'deelFee': '0.00', 'adjustment': '0.00', 'exchangeFee': '4811322.07', 'total': '239788435.12', 'fee': '114759.45', 'paymentMethodFees': {'variable': '0.00', 'fixed': '114075.00', 'spread': '684.45', 'total': '114759.45'}}, 'WST': {'amount': '26892.00', 'deelFee': '0.00', 'adjustment': '0.00', 'exchangeFee': '550.90', 'total': '27456.04', 'fee': '13.14', 'paymentMethodFees': {'variable': '0.00', 'fixed': '13.06', 'spread': '0.08', 'total': '13.14'}}, 'XAG': {'amount': '457.15', 'deelFee': '0.00', 'adjustment': '0.00', 'exchangeFee': '9.37', 'total': '466.74', 'fee': '0.22', 'paymentMethodFees': {'variable': '0.00', 'fixed': '0.22', 'spread': '0.00', 'total': '0.22'}}, 'XAU': {'amount': '5.69', 'deelFee': '0.00', 'adjustment': '0.00', 'exchangeFee': '0.12', 'total': '5.81', 'fee': '0.00', 'paymentMethodFees': {'variable': '0.00', 'fixed': '0.00', 'spread': '0.00', 'total': '0.00'}}, 'ZAR': {'amount': '158205.40', 'deelFee': '0.00', 'adjustment': '0.00', 'exchangeFee': '3240.95', 'total': '161523.65', 'fee': '77.30', 'paymentMethodFees': {'variable': '0.00', 'fixed': '76.84', 'spread': '0.46', 'total': '77.30'}}}, 'mercury_wire': {'USD': {'amount': '10294.21', 'deelFee': '0.00', 'adjustment': '0.00', 'exchangeFee': '210.88', 'total': '10510.09', 'fee': '5.00', 'paymentMethodFees': {'variable': '0.00', 'fixed': '5.00', 'spread': '0.00', 'total': '5.00'}}}, 'transferwise': {'USD': {'amount': '10294.21', 'deelFee': '0.00', 'adjustment': '0.00', 'exchangeFee': '210.88', 'total': '10510.09', 'fee': '5.00', 'paymentMethodFees': {'variable': '0.00', 'fixed': '5.00', 'spread': '0.00', 'total': '5.00'}}, 'GBP': {'amount': '7694.35', 'deelFee': '0.00', 'adjustment': '0.00', 'exchangeFee': '157.62', 'total': '7855.73', 'fee': '3.76', 'paymentMethodFees': {'variable': '0.00', 'fixed': '3.74', 'spread': '0.02', 'total': '3.76'}}, 'EUR': {'amount': '9214.04', 'deelFee': '0.00', 'adjustment': '0.00', 'exchangeFee': '188.76', 'total': '9407.30', 'fee': '4.50', 'paymentMethodFees': {'variable': '0.00', 'fixed': '4.48', 'spread': '0.03', 'total': '4.50'}}, 'AUD': {'amount': '14303.17', 'deelFee': '0.00', 'adjustment': '0.00', 'exchangeFee': '293.01', 'total': '14603.17', 'fee': '6.99', 'paymentMethodFees': {'variable': '0.00', 'fixed': '6.95', 'spread': '0.04', 'total': '6.99'}}, 'CAD': {'amount': '13153.42', 'deelFee': '0.00', 'adjustment': '0.00', 'exchangeFee': '269.46', 'total': '13429.31', 'fee': '6.43', 'paymentMethodFees': {'variable': '0.00', 'fixed': '6.39', 'spread': '0.04', 'total': '6.43'}}, 'NZD': {'amount': '15343.98', 'deelFee': '0.00', 'adjustment': '0.00', 'exchangeFee': '314.33', 'total': '15665.81', 'fee': '7.50', 'paymentMethodFees': {'variable': '0.00', 'fixed': '7.45', 'spread': '0.04', 'total': '7.50'}}, 'PLN': {'amount': '43379.28', 'deelFee': '0.00', 'adjustment': '0.00', 'exchangeFee': '888.66', 'total': '44289.14', 'fee': '21.20', 'paymentMethodFees': {'variable': '0.00', 'fixed': '21.07', 'spread': '0.13', 'total': '21.20'}}, 'SGD': {'amount': '13987.31', 'deelFee': '0.00', 'adjustment': '0.00', 'exchangeFee': '286.54', 'total': '14280.68', 'fee': '6.83', 'paymentMethodFees': {'variable': '0.00', 'fixed': '6.79', 'spread': '0.04', 'total': '6.83'}}, 'TRY': {'amount': '143755.16', 'deelFee': '0.00', 'adjustment': '0.00', 'exchangeFee': '2944.93', 'total': '146770.33', 'fee': '70.24', 'paymentMethodFees': {'variable': '0.00', 'fixed': '69.82', 'spread': '0.42', 'total': '70.24'}}, 'HUF': {'amount': '3413507.40', 'deelFee': '0.00', 'adjustment': '0.00', 'exchangeFee': '69928.12', 'total': '3485103.44', 'fee': '1667.92', 'paymentMethodFees': {'variable': '0.00', 'fixed': '1657.97', 'spread': '9.95', 'total': '1667.92'}}}, 'go_cardless': {'CAD': {'amount': '13153.42', 'deelFee': '0.00', 'adjustment': '0.00', 'exchangeFee': '269.46', 'total': '13432.88', 'fee': '10.00', 'paymentMethodFees': {'variable': '0.00', 'fixed': '10.00', 'spread': '0.00', 'total': '10.00'}}}, 'coinbase': {'USDC': {'amount': '10294.21', 'deelFee': '0.00', 'adjustment': '0.00', 'exchangeFee': '210.88', 'total': '10510.09', 'fee': '5.00', 'paymentMethodFees': {'variable': '0.00', 'fixed': '5.00', 'spread': '0.00', 'total': '5.00'}}}, 'brex': {'USD': {'amount': '10294.21', 'deelFee': '0.00', 'adjustment': '0.00', 'exchangeFee': '210.88', 'total': '10510.09', 'fee': '5.00', 'paymentMethodFees': {'variable': '0.00', 'fixed': '5.00', 'spread': '0.00', 'total': '5.00'}}}}\n",
      "************\n",
      "money_received_at\n",
      "2022-03-07 19:21:21.604000\n",
      "************\n",
      "period_end\n",
      "None\n",
      "************\n",
      "period_start\n",
      "None\n",
      "************\n",
      "root_invoice_id\n",
      "None\n",
      "************\n",
      "team_id\n",
      "8611\n",
      "************\n",
      "currency\n",
      "EUR\n",
      "************\n",
      "payment_currency\n",
      "EUR\n",
      "************\n",
      "filename\n",
      "None\n",
      "************\n",
      "is_auto\n",
      "False\n",
      "************\n",
      "payment_method_id\n",
      "149166\n",
      "************\n",
      "is_early_paid\n",
      "False\n",
      "************\n",
      "is_paid_to_contractor\n",
      "False\n",
      "************\n",
      "deleted_at\n",
      "None\n",
      "************\n",
      "ref\n",
      "DEELSKXHW8\n",
      "************\n",
      "description\n",
      "None\n",
      "************\n",
      "adjustment\n",
      "0.0\n",
      "************\n",
      "exchange_fee\n",
      "188.76\n",
      "************\n",
      "exchange_fees\n",
      "{'AED': '774.59768', 'ALL': '22904.66738', 'AMD': '101662.487005', 'ARS': '22661.423745', 'AUD': '293.010595', 'AZN': '358.731415', 'BAM': '369.226245', 'BBD': '426.340405', 'BDT': '18153.98124', 'BGN': '366.4197', 'BHD': '79.51303', 'BMD': '210.8842', 'BND': '286.02169', 'BOB': '1451.65449', 'BRL': '1088.914025', 'BSD': '211.15031', 'BWP': '2449.54047', 'BYN': '582.309995', 'BZD': '425.6232', 'CAD': '269.45715', 'CDF': '424720.640305', 'CHF': '195.31875', 'CLP': '171001.63578', 'CNY': '1330.88857', 'COP': '826583.6558', 'CRC': '135384.19394', 'CUP': '5588.4302', 'CVE': '20814.420245', 'CZK': '4720.222455', 'DJF': '37589.857215', 'DKK': '1404.5855', 'DOP': '11811.665025', 'DZD': '29821.767135', 'EGP': '3314.91852', 'ETB': '10822.81243', 'EUR': '188.75615', 'FJD': '449.84755', 'GBP': '157.624225', 'GEL': '668.53865', 'GHS': '1429.415', 'GIP': '153.5068', 'GMD': '11239.840235', 'GNF': '1895893.162765', 'GTQ': '1628.92922', 'GYD': '44173.81815', 'HKD': '1647.712775', 'HNL': '5199.376455', 'HRK': '1425.597285', 'HTG': '22000.690765', 'HUF': '69928.12277', 'IDR': '3033410.4542', 'ILS': '0', 'INR': '15916.628885', 'ISK': '26649.329595', 'JMD': '32761.24446', 'JOD': '149.5127', 'JPY': '24358.490485', 'KES': '24009.218145', 'KGS': '19983.93079', 'KHR': '858321.8101', 'KMF': '92446.34341', 'KRW': '253827.55974', 'KWD': '63.9359', 'KYD': '175.965695', 'KZT': '97155.8711', 'LAK': '2418224.936095', 'LBP': '319271.74223', 'LKR': '42759.67279', 'LSL': '3209.006375', 'LVL': '127.56165', 'MAD': '2009.683595', 'MGA': '842173.64844', 'MMK': '375458.714865', 'MNT': '602882.20382', 'MOP': '1698.32108', 'MRO': '75285.60834', 'MUR': '9289.51726', 'MVR': '3258.106115', 'MWK': '169691.05449', 'MXN': '4330.3501', 'MYR': '885.91559', 'MZN': '13460.671065', 'NAD': '3205.40683', 'NGN': '87947.133295', 'NIO': '7486.47876', 'NOK': '1889.535725', 'NPR': '25431.486705', 'NZD': '314.332325', 'OMR': '81.182', 'PAB': '211.15031', 'PEN': '801.430885', 'PGK': '747.72555', 'PHP': '10830.4831', 'PKR': '37489.749285', 'PLN': '888.65535', 'PYG': '1465290.04591', 'QAR': '767.823465', 'RON': '933.8456', 'RSD': '22003.73617', 'RUB': '22986.339805', 'RWF': '214030.16159', 'SAR': '791.35765', 'SEK': '2012.70995', 'SGD': '286.539975', 'SLL': '2467344.6313', 'SRD': '4327.237295', 'SVC': '1847.63036', 'SZL': '3223.756905', 'THB': '6897.97778', 'TJS': '2385.734855', 'TMT': '740.2034', 'TND': '609.238255', 'TRY': '2944.926525', 'TTD': '1435.325945', 'TWD': '5912.8755', 'TZS': '488196.846065', 'UAH': '6345.072155', 'UGX': '748902.9914', 'USD': '210.8842', 'UYU': '8927.93567', 'VND': '4811322.072', 'WST': '550.901715', 'XAG': '9.36504', 'XAU': '0.116565', 'ZAR': '3240.94995', 'USDC': '210.8842'}\n",
      "************\n",
      "terminate_contract_after_payment\n",
      "False\n",
      "************\n",
      "eor_team_id\n",
      "None\n",
      "************\n",
      "preserve\n",
      "False\n",
      "************\n",
      "charge_back\n",
      "None\n",
      "************\n",
      "contractor_tx_id\n",
      "None\n",
      "************\n",
      "type\n",
      "PAYMENT\n",
      "************\n",
      "payment_method_fees\n",
      "{'fixed': '4.48', 'total': '4.50', 'spread': '0.03', 'variable': '0.00'}\n",
      "************\n",
      "cancellation_reason\n",
      "None\n",
      "************\n",
      "cancelled_at\n",
      "None\n",
      "************\n",
      "reactivated_id\n",
      "None\n",
      "************\n",
      "automation_rule_id\n",
      "None\n",
      "************\n",
      "approval_required_reason\n",
      "All automation rule checks failed\n",
      "************\n",
      "beneficiary_details\n",
      "{'currency': 'EUR', 'beneficiary': 'Deel, Inc.', 'IBAN': 'BE60 9670 2867 3970', 'BIC': 'TRWIBEB1XXX', 'address': 'TransferWise Europe SA, Avenue Louise 54, Room S52, Brussels, 1050, Belgium'}\n",
      "************\n",
      "issued_at\n",
      "2022-02-28 07:37:12.768000+00:00\n",
      "************\n",
      "actual_amount_paid\n",
      "None\n",
      "************\n",
      "payment_amount\n",
      "9407.3\n",
      "************\n",
      "user_rates\n",
      "{'risk': 0, 'rates': {'AED': '3.673096', 'ALL': '108.612556', 'AMD': '482.077401', 'ARS': '107.459109', 'AUD': '1.389439', 'AZN': '1.701083', 'BAM': '1.750849', 'BBD': '2.021681', 'BDT': '86.085088', 'BGN': '1.73754', 'BHD': '0.377046', 'BMD': '1', 'BND': '1.356298', 'BOB': '6.883658', 'BRL': '5.163565', 'BSD': '1.001262', 'BTC': 'NaN', 'BWP': '11.615574', 'BYN': '2.761279', 'BZD': '2.01828', 'CAD': '1.27775', 'CDF': '2013.999741', 'CHF': '0.92619', 'CLP': '810.879476', 'CNY': '6.310994', 'COP': '3919.61', 'CRC': '641.983708', 'CUP': '26.5', 'CVE': '98.700729', 'CZK': '22.383011', 'DJF': '178.248843', 'DKK': '6.66046', 'DOP': '56.010205', 'DZD': '141.413027', 'EGP': '15.719144', 'ETB': '51.321126', 'ETH': 'NaN', 'EUR': '0.89507', 'FJD': '2.13315', 'GBP': '0.747445', 'GEL': '3.17017', 'GHS': '6.7782', 'GIP': '0.72792', 'GMD': '53.298647', 'GNF': '8990.211393', 'GTQ': '7.724284', 'GYD': '209.46959', 'HKD': '7.813355', 'HNL': '24.655131', 'HRK': '6.760097', 'HTG': '104.325953', 'HUF': '331.594954', 'IDR': '14384.25', 'ILS': '3.1928335', 'INR': '75.475697', 'ISK': '126.369519', 'JMD': '155.351852', 'JOD': '0.70898', 'JPY': '115.506497', 'KES': '113.850269', 'KGS': '94.762598', 'KHR': '4070.11042', 'KMF': '438.375002', 'KRW': '1203.635028', 'KWD': '0.30318', 'KYD': '0.834419', 'KZT': '460.7073', 'LAK': '11467.077259', 'LBP': '1513.967406', 'LKR': '202.763798', 'LSL': '15.216915', 'LVL': '0.60489', 'MAD': '9.529799', 'MGA': '3993.536808', 'MMK': '1780.402653', 'MNT': '2858.831164', 'MOP': '8.053336', 'MRO': '356.999828', 'MUR': '44.050332', 'MVR': '15.449743', 'MWK': '804.664778', 'MXN': '20.53426', 'MYR': '4.200958', 'MZN': '63.829693', 'NAD': '15.199846', 'NGN': '417.040019', 'NIO': '35.500432', 'NOK': '8.960065', 'NPR': '120.594581', 'NZD': '1.490545', 'OMR': '0.38496', 'PAB': '1.001262', 'PEN': '3.800337', 'PGK': '3.54567', 'PHP': '51.3575', 'PKR': '177.774137', 'PLN': '4.21395', 'PYG': '6948.317302', 'QAR': '3.640973', 'RON': '4.42824', 'RSD': '104.340394', 'RUB': '108.999841', 'RWF': '1014.918158', 'SAR': '3.75257', 'SEK': '9.54415', 'SGD': '1.358755', 'SLL': '11699.9999', 'SRD': '20.519499', 'SVC': '8.761352', 'SZL': '15.286861', 'THB': '32.709796', 'TJS': '11.313011', 'TMT': '3.51', 'TND': '2.888971', 'TRY': '13.964665', 'TTD': '6.806229', 'TWD': '28.0385', 'TZS': '2315.000093', 'UAH': '30.087951', 'UGX': '3551.25296', 'USD': '1', 'UYU': '42.335734', 'VND': '22815', 'WST': '2.612343', 'XAG': '0.044408', 'XAU': '0.000553', 'ZAR': '15.36839', 'USDC': 1}, 'risks': {}}\n",
      "************\n",
      "recipient_legal_entity_id\n",
      "None\n",
      "************\n",
      "autopilot_root_invoice_id\n",
      "None\n",
      "************\n",
      "refund_for\n",
      "None\n",
      "************\n",
      "source_of_revenue\n",
      "INVOICE\n",
      "************\n",
      "moved_to_processing_by_user_id\n",
      "99044\n",
      "************\n",
      "skip_releasing_balance\n",
      "False\n",
      "************\n",
      "released_by_date\n",
      "None\n",
      "************\n",
      "autopay_rule_id\n",
      "None\n",
      "************\n",
      "sender_legal_entity_id\n",
      "None\n",
      "************\n",
      "is_sealed\n",
      "False\n",
      "************\n",
      "proof_of_payment_file_id\n",
      "None\n",
      "************\n"
     ]
    }
   ],
   "source": [
    "for i, row in invoice_df.iterrows():\n",
    "    for col in invoice_df.columns:\n",
    "        print(col)\n",
    "        print(row[col])\n",
    "        print('************')"
   ]
  },
  {
   "cell_type": "code",
   "execution_count": null,
   "id": "966c3eba",
   "metadata": {},
   "outputs": [],
   "source": []
  },
  {
   "cell_type": "code",
   "execution_count": null,
   "id": "2b8429b7",
   "metadata": {},
   "outputs": [],
   "source": [
    "transaction_df.iloc[0]['data']"
   ]
  },
  {
   "cell_type": "code",
   "execution_count": null,
   "id": "353e0dd5",
   "metadata": {},
   "outputs": [],
   "source": [
    "matched_invoice_transaction_df.head(10)"
   ]
  },
  {
   "cell_type": "code",
   "execution_count": null,
   "id": "fb4d1abc",
   "metadata": {},
   "outputs": [],
   "source": []
  },
  {
   "cell_type": "code",
   "execution_count": null,
   "id": "4ccd2c70",
   "metadata": {},
   "outputs": [],
   "source": [
    "transaction_df"
   ]
  },
  {
   "cell_type": "code",
   "execution_count": null,
   "id": "1d37f24c",
   "metadata": {},
   "outputs": [],
   "source": [
    "matched_invoice_transaction_df[matched_invoice_transaction_df['payments_transaction_id']==257382]"
   ]
  },
  {
   "cell_type": "code",
   "execution_count": null,
   "id": "04e8c0a0",
   "metadata": {},
   "outputs": [],
   "source": [
    "transaction_id_list = [str(id) for id in matched_invoice_transaction_df['payments_transaction_id'][:20]]\n",
    "transaction_string = ','.join(transaction_id_list)"
   ]
  },
  {
   "cell_type": "code",
   "execution_count": null,
   "id": "c45170ef",
   "metadata": {},
   "outputs": [],
   "source": [
    "transactions = pd.read_sql(f'select * from payments. \"Transaction\" where id in ({5173879})', con)"
   ]
  },
  {
   "cell_type": "code",
   "execution_count": null,
   "id": "a775af57",
   "metadata": {},
   "outputs": [],
   "source": [
    "transactions"
   ]
  },
  {
   "cell_type": "code",
   "execution_count": null,
   "id": "69a48c5c",
   "metadata": {},
   "outputs": [],
   "source": [
    "invoices = pd.read_sql(f'select * from public.invoice where id in (2044669, 2044677, 2044683)', con)"
   ]
  },
  {
   "cell_type": "code",
   "execution_count": null,
   "id": "d48fe827",
   "metadata": {},
   "outputs": [],
   "source": [
    "invoices\n"
   ]
  },
  {
   "cell_type": "code",
   "execution_count": null,
   "id": "2ae90ce6",
   "metadata": {},
   "outputs": [],
   "source": [
    "invoices"
   ]
  },
  {
   "cell_type": "code",
   "execution_count": null,
   "id": "6162a06b",
   "metadata": {},
   "outputs": [],
   "source": [
    "transaction = transactions.iloc[0]"
   ]
  },
  {
   "cell_type": "code",
   "execution_count": null,
   "id": "a6cbb47f",
   "metadata": {},
   "outputs": [],
   "source": [
    "transaction['id']"
   ]
  },
  {
   "cell_type": "code",
   "execution_count": null,
   "id": "87133010",
   "metadata": {},
   "outputs": [],
   "source": []
  },
  {
   "cell_type": "code",
   "execution_count": null,
   "id": "13e4ddd1",
   "metadata": {},
   "outputs": [],
   "source": []
  },
  {
   "cell_type": "code",
   "execution_count": null,
   "id": "df242219",
   "metadata": {},
   "outputs": [],
   "source": [
    "url=\"http://127.0.0.1:5000/get-examples-locally\"\n"
   ]
  },
  {
   "cell_type": "code",
   "execution_count": null,
   "id": "c290162e",
   "metadata": {},
   "outputs": [],
   "source": [
    "transactions"
   ]
  },
  {
   "cell_type": "code",
   "execution_count": null,
   "id": "9863164f",
   "metadata": {},
   "outputs": [],
   "source": [
    "request_list = []\n",
    "for i, transaction in transactions[:5].iterrows():\n",
    "\n",
    "    payload = {'transactionId': str(transaction['id'])}\n",
    "    response = requests.post(url, json=payload)\n",
    "    request_list.append({'transaction': transaction['id'], 'response': response.json()})"
   ]
  },
  {
   "cell_type": "code",
   "execution_count": null,
   "id": "505af236",
   "metadata": {},
   "outputs": [],
   "source": [
    "import requests\n",
    "url=\"http://127.0.0.1:5000//get-invoice-recommendations-locally\"\n",
    "payload = {'transactionId': str(6597058)}\n",
    "response = requests.post(url, json=payload)"
   ]
  },
  {
   "cell_type": "code",
   "execution_count": null,
   "id": "190abf0a",
   "metadata": {},
   "outputs": [],
   "source": [
    "response.json()"
   ]
  },
  {
   "cell_type": "code",
   "execution_count": null,
   "id": "576cbad4",
   "metadata": {},
   "outputs": [],
   "source": [
    "match_df = pd.read_sql(\"select * from invoice_payments_transactions where payments_transaction_id=6403097\", con)"
   ]
  },
  {
   "cell_type": "code",
   "execution_count": null,
   "id": "c5666d86",
   "metadata": {},
   "outputs": [],
   "source": [
    "match_df"
   ]
  },
  {
   "cell_type": "code",
   "execution_count": null,
   "id": "df3db912",
   "metadata": {},
   "outputs": [],
   "source": [
    "response_df = pd.DataFrame(response.json())"
   ]
  },
  {
   "cell_type": "code",
   "execution_count": null,
   "id": "b707c07e",
   "metadata": {},
   "outputs": [],
   "source": [
    "response_df"
   ]
  },
  {
   "cell_type": "code",
   "execution_count": null,
   "id": "11d0b617",
   "metadata": {},
   "outputs": [],
   "source": [
    "request_list[2]['response']"
   ]
  },
  {
   "cell_type": "code",
   "execution_count": null,
   "id": "c29ca4e6",
   "metadata": {},
   "outputs": [],
   "source": [
    "for d in request_list[4]['response']:\n",
    "    print(d['match_score'])"
   ]
  },
  {
   "cell_type": "code",
   "execution_count": null,
   "id": "5f32a412",
   "metadata": {},
   "outputs": [],
   "source": [
    "for response  in request_list:\n",
    "    print response['transactionId']\n",
    "    print\n",
    "    "
   ]
  },
  {
   "cell_type": "code",
   "execution_count": null,
   "id": "71ddf656",
   "metadata": {},
   "outputs": [],
   "source": [
    "matched_invoice_transaction_df"
   ]
  },
  {
   "cell_type": "code",
   "execution_count": null,
   "id": "dea25cf9",
   "metadata": {},
   "outputs": [],
   "source": [
    "pd.read_sql(f'select * from payments. \"Transaction\" where id = 3031744', con)['data']"
   ]
  },
  {
   "cell_type": "code",
   "execution_count": null,
   "id": "a167deeb",
   "metadata": {},
   "outputs": [],
   "source": [
    "pd.read_sql(f'select * from public. \"invoice\" where id = 1687151', con)"
   ]
  },
  {
   "cell_type": "code",
   "execution_count": null,
   "id": "856fc177",
   "metadata": {},
   "outputs": [],
   "source": [
    "transaction_3031744 = pd.read_sql('select * from payments. \"Transaction\" where id=3031744', con)"
   ]
  },
  {
   "cell_type": "code",
   "execution_count": null,
   "id": "7c77576a",
   "metadata": {},
   "outputs": [],
   "source": [
    "transaction_3031744"
   ]
  },
  {
   "cell_type": "code",
   "execution_count": null,
   "id": "c7024482",
   "metadata": {},
   "outputs": [],
   "source": [
    "invoice_refs = pd.read_sql('select ref from public.invoice', con)"
   ]
  },
  {
   "cell_type": "code",
   "execution_count": null,
   "id": "b6e52f9d",
   "metadata": {},
   "outputs": [],
   "source": []
  },
  {
   "cell_type": "code",
   "execution_count": null,
   "id": "317064f6",
   "metadata": {},
   "outputs": [],
   "source": [
    "def lower_str(x):\n",
    "    if type(x)==type('hi'):\n",
    "        return x.lower()\n",
    "    return ''"
   ]
  },
  {
   "cell_type": "code",
   "execution_count": null,
   "id": "db4dbf5e",
   "metadata": {},
   "outputs": [],
   "source": [
    "invoice_refs['lower_refs'] = invoice_refs['ref'].apply(lower_str)"
   ]
  },
  {
   "cell_type": "code",
   "execution_count": null,
   "id": "22ddfaa4",
   "metadata": {},
   "outputs": [],
   "source": [
    "invoice_refs[invoice_refs['lower_refs']==str.lower('DEELMRWSF4')]"
   ]
  },
  {
   "cell_type": "code",
   "execution_count": null,
   "id": "bbc19753",
   "metadata": {},
   "outputs": [],
   "source": [
    "str.lower('DEELMRWSF4')"
   ]
  },
  {
   "cell_type": "code",
   "execution_count": null,
   "id": "36df0e93",
   "metadata": {},
   "outputs": [],
   "source": [
    "transaction_3031744.iloc[0].data"
   ]
  },
  {
   "cell_type": "code",
   "execution_count": null,
   "id": "c8deaab4",
   "metadata": {},
   "outputs": [],
   "source": []
  },
  {
   "cell_type": "markdown",
   "id": "5a2a2a7b",
   "metadata": {},
   "source": [
    "## investigating a particular transaction"
   ]
  },
  {
   "cell_type": "code",
   "execution_count": null,
   "id": "8689265f",
   "metadata": {},
   "outputs": [],
   "source": []
  },
  {
   "cell_type": "code",
   "execution_count": 10,
   "id": "e5396ceb",
   "metadata": {},
   "outputs": [],
   "source": [
    "payload_2 = {'transactionId': 122508}\n",
    "url_2 = 'http://127.0.0.1:5000//get-invoice-recommendations-locally'\n",
    "response_2 = requests.post(url_2, json = payload_2)"
   ]
  },
  {
   "cell_type": "code",
   "execution_count": 11,
   "id": "1e11001e",
   "metadata": {},
   "outputs": [
    {
     "data": {
      "text/plain": [
       "[]"
      ]
     },
     "execution_count": 11,
     "metadata": {},
     "output_type": "execute_result"
    }
   ],
   "source": [
    "response_2.json()"
   ]
  },
  {
   "cell_type": "code",
   "execution_count": null,
   "id": "7b1b7623",
   "metadata": {},
   "outputs": [],
   "source": [
    "import pandas as pd"
   ]
  },
  {
   "cell_type": "code",
   "execution_count": null,
   "id": "e7f2191b",
   "metadata": {},
   "outputs": [],
   "source": [
    "pd.DataFrame(response_2.json())"
   ]
  },
  {
   "cell_type": "code",
   "execution_count": null,
   "id": "00fc8e5c",
   "metadata": {},
   "outputs": [],
   "source": [
    "for recommendations we weren't pulling transfers made via coinbase, so all USDC payments were being skipped. Added coinbase to transfer methods in query"
   ]
  },
  {
   "cell_type": "code",
   "execution_count": null,
   "id": "35eeba65",
   "metadata": {},
   "outputs": [],
   "source": []
  },
  {
   "cell_type": "code",
   "execution_count": null,
   "id": "f7f8fac8",
   "metadata": {},
   "outputs": [],
   "source": []
  },
  {
   "cell_type": "code",
   "execution_count": null,
   "id": "a6074078",
   "metadata": {},
   "outputs": [],
   "source": []
  },
  {
   "cell_type": "code",
   "execution_count": null,
   "id": "f1ae6e76",
   "metadata": {},
   "outputs": [],
   "source": [
    "get-transaction-invoice-comparison-locally\n",
    "def compare_transaction_invoice_locally():\n",
    "    data = request.json\n",
    "    transaction_id = data['transactionId']\n",
    "    invoice_id = data['invoiceId']"
   ]
  },
  {
   "cell_type": "code",
   "execution_count": 45,
   "id": "59a0171b",
   "metadata": {},
   "outputs": [],
   "source": [
    "url = 'http://127.0.0.1:5000//get-transaction-invoice-comparison-locally'\n",
    "payload = {'transactionId': 12761016, 'invoiceId': 3047744 }"
   ]
  },
  {
   "cell_type": "code",
   "execution_count": 50,
   "id": "c62ce3ed",
   "metadata": {},
   "outputs": [],
   "source": [
    "response = requests.post(url, json = payload)"
   ]
  },
  {
   "cell_type": "code",
   "execution_count": 51,
   "id": "b94fa9e2",
   "metadata": {},
   "outputs": [
    {
     "data": {
      "text/plain": [
       "[{'amount_difference': -13.80999999999949,\n",
       "  'company_name_match_ratio': 1.0,\n",
       "  'days_until_money_received': 0,\n",
       "  'deel_ref_extracted': True,\n",
       "  'deel_ref_match': True,\n",
       "  'id': 3047744,\n",
       "  'match_score': 0.9996544477569714,\n",
       "  'rel_abs_amount_difference': 0.0018429452961523,\n",
       "  'rel_amount_difference': -0.0018429452961523,\n",
       "  'transaction_amount': 7479.63,\n",
       "  'transaction_deel_reference': 'DEELESJ5KN'}]"
      ]
     },
     "execution_count": 51,
     "metadata": {},
     "output_type": "execute_result"
    }
   ],
   "source": [
    "response.json()"
   ]
  },
  {
   "cell_type": "code",
   "execution_count": 13,
   "id": "62bccc90",
   "metadata": {},
   "outputs": [],
   "source": [
    "transactions_query = f\"\"\"\n",
    "            SELECT\n",
    "                *\n",
    "            FROM\n",
    "                payments. \"Transaction\"\n",
    "            WHERE\n",
    "                id = 122508\"\"\""
   ]
  },
  {
   "cell_type": "code",
   "execution_count": 19,
   "id": "ca592107",
   "metadata": {},
   "outputs": [],
   "source": [
    "transaction = pd.read_sql(transactions_query, con)"
   ]
  },
  {
   "cell_type": "code",
   "execution_count": 21,
   "id": "238a7c41",
   "metadata": {},
   "outputs": [
    {
     "data": {
      "text/plain": [
       "Index(['id', 'provider', 'provider_ref', 'type', 'account', 'amount',\n",
       "       'currency', 'description', 'data', 'created_at'],\n",
       "      dtype='object')"
      ]
     },
     "execution_count": 21,
     "metadata": {},
     "output_type": "execute_result"
    }
   ],
   "source": [
    "transaction.columns"
   ]
  },
  {
   "cell_type": "code",
   "execution_count": 22,
   "id": "c6c2ca1d",
   "metadata": {},
   "outputs": [
    {
     "data": {
      "text/plain": [
       "0    {'amount': 515, 'account': {'aba': '322271627'...\n",
       "Name: data, dtype: object"
      ]
     },
     "execution_count": 22,
     "metadata": {},
     "output_type": "execute_result"
    }
   ],
   "source": [
    "transaction['data']"
   ]
  },
  {
   "cell_type": "code",
   "execution_count": null,
   "id": "fc5df97e",
   "metadata": {},
   "outputs": [],
   "source": []
  }
 ],
 "metadata": {
  "kernelspec": {
   "display_name": "payment_reconciliation_env",
   "language": "python",
   "name": "payment_reconciliation_env"
  },
  "language_info": {
   "codemirror_mode": {
    "name": "ipython",
    "version": 3
   },
   "file_extension": ".py",
   "mimetype": "text/x-python",
   "name": "python",
   "nbconvert_exporter": "python",
   "pygments_lexer": "ipython3",
   "version": "3.9.7"
  }
 },
 "nbformat": 4,
 "nbformat_minor": 5
}
